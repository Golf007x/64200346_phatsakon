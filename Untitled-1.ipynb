{
 "cells": [
  {
   "cell_type": "code",
   "execution_count": 2,
   "metadata": {
    "vscode": {
     "languageId": "html"
    }
   },
   "outputs": [
    {
     "ename": "IndentationError",
     "evalue": "unindent does not match any outer indentation level (<tokenize>, line 7)",
     "output_type": "error",
     "traceback": [
      "\u001b[1;36m  File \u001b[1;32m<tokenize>:7\u001b[1;36m\u001b[0m\n\u001b[1;33m    }\u001b[0m\n\u001b[1;37m    ^\u001b[0m\n\u001b[1;31mIndentationError\u001b[0m\u001b[1;31m:\u001b[0m unindent does not match any outer indentation level\n"
     ]
    }
   ],
   "source": [
    "<html>\n",
    "    \n",
    "\n",
    "<style>\n",
    "     #blue_bar{\n",
    "            height:50px; background-color: black; color: #d9dfeb;\n",
    "        }\n",
    "</style>\n",
    "   \n",
    "    <body>\n",
    "            \n",
    "            <div id=\"blue_bar\">\n",
    "                <div style=\"width:800px; margin:auto; font-size:30px;\">\n",
    "                    Phatsakon Suwanmanee <br><br>\n",
    "                    <img src=\"00003.jpg\" style=\" width: 420px; height: 240px; \n",
    "                            border:solid 2px white;\">\n",
    "                </div>\n",
    "            </div>\n",
    "        </body> \n",
    "        \n",
    "       \n",
    "   \n",
    "    <div>\n",
    "    </div>\n",
    "</html>"
   ]
  }
 ],
 "metadata": {
  "kernelspec": {
   "display_name": "Python 3.10.4 64-bit",
   "language": "python",
   "name": "python3"
  },
  "language_info": {
   "codemirror_mode": {
    "name": "ipython",
    "version": 3
   },
   "file_extension": ".py",
   "mimetype": "text/x-python",
   "name": "python",
   "nbconvert_exporter": "python",
   "pygments_lexer": "ipython3",
   "version": "3.10.4"
  },
  "orig_nbformat": 4,
  "vscode": {
   "interpreter": {
    "hash": "876db7d3f8682b7e4c5477e5f1e2dc2bd1b19fe05d9aabd59218369070754b39"
   }
  }
 },
 "nbformat": 4,
 "nbformat_minor": 2
}
